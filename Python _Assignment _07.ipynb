{
 "cells": [
  {
   "cell_type": "code",
   "execution_count": 6,
   "metadata": {},
   "outputs": [
    {
     "name": "stdout",
     "output_type": "stream",
     "text": [
      "Hello, abida! Let's explore your favourite numbers:\n",
      "\n",
      "You entered the following favorite numbers:\n",
      "First favorite number: 6\n",
      "Second favorite number: 7\n",
      "Third favorite number: 8\n",
      "The number 6 is Even.\n",
      "The number 7 is Odd.\n",
      "The number 8 is Even.\n",
      "\n",
      "Here is each number and its square : \n",
      "The number is 6 and its square : (6,36)\n",
      "The number is 7 and its square : (7,49)\n",
      "The number is 8 and its square : (8,64)\n",
      "\n",
      "The sum of all your favourite numbers is: 21\n",
      "The sum 21 is not a prime number.\n"
     ]
    }
   ],
   "source": [
    "#step 1: Ask user to Enter name\n",
    "name = input(\"Enter your name: \")\n",
    "print(f\"Hello, {name}! Let's explore your favourite numbers:\")\n",
    "\n",
    "#step 2: Ask user to Enter favourite number\n",
    "fav_numbers = []\n",
    "for i in range (1, 4):\n",
    "    num = int(input(f\"Enter your {i}{('st', 'nd', 'rd')[i-1]} favorite number: \"))\n",
    "    fav_numbers.append(num)\n",
    "\n",
    "# Display the numbers the user entered\n",
    "\n",
    "print(f\"Your First favorite number: {fav_numbers[0]}\")\n",
    "print(f\"Your Second favorite number: {fav_numbers[1]}\")\n",
    "print(f\"Your Third favorite number: {fav_numbers[2]}\")\n",
    "\n",
    "\n",
    "#step 3: check if numbers are even or odd\n",
    "even_odd_list = []\n",
    "for num in fav_numbers:\n",
    "    if num % 2 == 0:\n",
    "        even_odd_list.append((num, \"Even\"))\n",
    "    else:\n",
    "        even_odd_list.append((num, \"Odd\"))\n",
    "\n",
    "# step 4: Print even or odd status of each number\n",
    "\n",
    "for num, status in even_odd_list:\n",
    "    print(f\"The number {num} is {status}.\")\n",
    "\n",
    "#Step 5: calculate and print the square of each number\n",
    "print (\"\\nHere is each number and its square : \")\n",
    "for num in fav_numbers:\n",
    "    square = num ** 2\n",
    "    print(f\"The number is {num} and its square : ({num},{square})\")\n",
    "\n",
    "#step 6: calculate the sum of all fav_numbers\n",
    "\n",
    "total_sum = sum (fav_numbers)\n",
    "print(f\"\\nThe sum of all your favourite numbers is: {total_sum}\")\n",
    "\n",
    "#Step 7 : check if the sum of fav_numbers is a prime number\n",
    "is_prime = True\n",
    "if total_sum <= 1:\n",
    "    is_prime = False\n",
    "\n",
    "else: \n",
    "    for i in range (2, int(total_sum ** 0.5) + 1):\n",
    "        if total_sum % i == 0:\n",
    "            is_prime = False\n",
    "            break\n",
    "\n",
    "\n",
    "#step 8: Print if the sum is a prime number or not\n",
    "if is_prime:\n",
    "    print(f\"wow, {total_sum} is a prime number!\")\n",
    "else:\n",
    "    print(f\"The sum {total_sum} is not a prime number.\")"
   ]
  },
  {
   "cell_type": "code",
   "execution_count": null,
   "metadata": {},
   "outputs": [],
   "source": []
  }
 ],
 "metadata": {
  "kernelspec": {
   "display_name": "PYSPARK_KERNEL",
   "language": "python",
   "name": "pyspark_kernel"
  },
  "language_info": {
   "codemirror_mode": {
    "name": "ipython",
    "version": 3
   },
   "file_extension": ".py",
   "mimetype": "text/x-python",
   "name": "python",
   "nbconvert_exporter": "python",
   "pygments_lexer": "ipython3",
   "version": "3.11.4"
  }
 },
 "nbformat": 4,
 "nbformat_minor": 2
}
